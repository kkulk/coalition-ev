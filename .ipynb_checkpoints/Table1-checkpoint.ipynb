{
 "cells": [
  {
   "cell_type": "code",
   "execution_count": 32,
   "id": "d6e6430f",
   "metadata": {},
   "outputs": [],
   "source": [
    "import numpy as np\n",
    "import itertools \n",
    "\n",
    "T = 10  # Time horizon\n",
    "\n",
    "d_H = 5\n",
    "d_L = 1\n",
    "\n",
    "mu_H = 5\n",
    "mu_L = 1\n",
    "\n",
    "\n",
    "b =1  # Price constant b\n",
    "\n",
    "\n",
    "a = 10 # This will not matter as a_t = a_t' \n",
    "\n",
    "\n",
    "set1 = ['HH', 'HL', 'LL']\n",
    "set2 = ['H', 'L']\n",
    "\n",
    "dem_set1 = [(d_H,d_H), (d_H,d_L), (d_L,d_L)]\n",
    "dem_set2 = [d_H,d_L]\n",
    "\n",
    "mu_set1 = [(mu_H,mu_H), (mu_H,mu_L), (mu_L,mu_L)]\n",
    "mu_set2 = [mu_H,mu_L]\n",
    "\n",
    "cross_product = list(itertools.product(set1, set2))\n",
    "cross_product_dem = list(itertools.product(dem_set1, dem_set2))\n",
    "cross_product_mu = list(itertools.product(mu_set1, mu_set2))"
   ]
  },
  {
   "cell_type": "code",
   "execution_count": 33,
   "id": "4f53a413",
   "metadata": {},
   "outputs": [
    {
     "data": {
      "text/plain": [
       "[((5, 5), 5), ((5, 5), 1), ((5, 1), 5), ((5, 1), 1), ((1, 1), 5), ((1, 1), 1)]"
      ]
     },
     "execution_count": 33,
     "metadata": {},
     "output_type": "execute_result"
    }
   ],
   "source": [
    "cross_product_dem"
   ]
  },
  {
   "cell_type": "code",
   "execution_count": 34,
   "id": "a17ce858",
   "metadata": {
    "scrolled": true
   },
   "outputs": [
    {
     "data": {
      "text/plain": [
       "[('HH', 'H'), ('HH', 'L'), ('HL', 'H'), ('HL', 'L'), ('LL', 'H'), ('LL', 'L')]"
      ]
     },
     "execution_count": 34,
     "metadata": {},
     "output_type": "execute_result"
    }
   ],
   "source": [
    "cross_product"
   ]
  },
  {
   "cell_type": "code",
   "execution_count": 1,
   "id": "12ce00fb",
   "metadata": {},
   "outputs": [
    {
     "name": "stdout",
     "output_type": "stream",
     "text": [
      "Collusion is better\n"
     ]
    }
   ],
   "source": [
    "\n",
    "\n",
    "d = np.array([[d_L], [d_L], [d_H]]) \n",
    "\n",
    "mu = np.diag([mu_H, mu_H, mu_H])  # Sensitivity constants\n",
    "\n",
    "B = b*np.array([[1],[1],[1]])@np.array([[1,1,1]])\n",
    "\n",
    "C = np.array([[b,b,0],[b,b,0],[0,0,b]])\n",
    "\n",
    "C_Nash = b*np.identity(3)\n",
    "\n",
    "Col_mat = np.linalg.inv(B+C+mu)@mu@d\n",
    "Nash_mat = np.linalg.inv(B+C_Nash+mu)@mu@d\n",
    "\n",
    "\n",
    "Delta_dagger = sum(Col_mat)\n",
    "Delta_ast = sum(Nash_mat)\n",
    "\n",
    "# Welfare comparison \n",
    "fac_col =  Delta_dagger*Delta_dagger \n",
    "fac_nash = Delta_ast*Delta_ast\n",
    "for i in range(3):\n",
    "    fac_col = fac_col+ 0.5*mu[i,i]*(Col_mat[i]-d[i])*(Col_mat[i]-d[i])\n",
    "    fac_nash = fac_nash+ 0.5*mu[i,i]*(Nash_mat[i]-d[i])*(Nash_mat[i]-d[i])\n",
    "    \n",
    "if fac_col <= fac_nash:\n",
    "    print('Collusion is better')\n",
    "else:\n",
    "    print('Nash is better')\n"
   ]
  },
  {
   "cell_type": "code",
   "execution_count": 39,
   "id": "ccb6c75c",
   "metadata": {},
   "outputs": [
    {
     "data": {
      "text/plain": [
       "array([-0.2121384])"
      ]
     },
     "execution_count": 39,
     "metadata": {},
     "output_type": "execute_result"
    }
   ],
   "source": [
    "\n"
   ]
  },
  {
   "cell_type": "code",
   "execution_count": 75,
   "id": "908de213",
   "metadata": {},
   "outputs": [
    {
     "name": "stdout",
     "output_type": "stream",
     "text": [
      "Collusion is better\n"
     ]
    }
   ],
   "source": [
    "# Constants\n",
    "T = 10  # Time horizon\n",
    "\n",
    "d_H = 100\n",
    "d_L = 1\n",
    "\n",
    "mu_H = 100\n",
    "mu_L = 1\n",
    "\n",
    "b =1  # Price constnat b\n",
    "\n",
    "d = np.array([[d_L], [d_L], [d_L]]) \n",
    "\n",
    "mu = np.diag([mu_L, mu_L, mu_L])  # Sensitivity constants\n",
    "\n",
    "B = b*np.array([[1],[1],[1]])@np.array([[1,1,1]])\n",
    "\n",
    "C = np.array([[b,b,0],[b,b,0],[0,0,b]])\n",
    "\n",
    "C_Nash = b*np.identity(3)\n",
    "\n",
    "Col_mat = np.linalg.inv(B+C+mu)@mu@d\n",
    "Nash_mat = np.linalg.inv(B+C_Nash+mu)@mu@d\n",
    "\n",
    "\n",
    "Delta_dagger = sum(Col_mat)\n",
    "Delta_ast = sum(Nash_mat)\n",
    "\n",
    "\n",
    "\n",
    "# Non-colluding cost comparison \n",
    "fac_col_nc =  Delta_dagger*Col_mat[2]+0.5*mu[2,2]*(Col_mat[2]-d[2])*(Col_mat[2]-d[2])\n",
    "fac_nash_nc = Delta_ast*Nash_mat[2]+0.5*mu[2,2]*(Nash_mat[2]-d[2])*(Nash_mat[2]-d[2])\n",
    "\n",
    "if fac_col_nc <= fac_nash_nc:\n",
    "    print('Collusion is better')\n",
    "else:\n",
    "    print('Nash is better')\n"
   ]
  },
  {
   "cell_type": "code",
   "execution_count": 11,
   "id": "2c290541",
   "metadata": {},
   "outputs": [
    {
     "data": {
      "text/plain": [
       "array([[1, 2]])"
      ]
     },
     "execution_count": 11,
     "metadata": {},
     "output_type": "execute_result"
    }
   ],
   "source": []
  },
  {
   "cell_type": "code",
   "execution_count": 16,
   "id": "c8452997",
   "metadata": {},
   "outputs": [
    {
     "data": {
      "text/plain": [
       "array([[1, 1],\n",
       "       [1, 1]])"
      ]
     },
     "execution_count": 16,
     "metadata": {},
     "output_type": "execute_result"
    }
   ],
   "source": [
    "np.array([[1],[1]])@np.array([[1,1]])"
   ]
  },
  {
   "cell_type": "code",
   "execution_count": 81,
   "id": "799ed3ca",
   "metadata": {},
   "outputs": [
    {
     "name": "stdout",
     "output_type": "stream",
     "text": [
      "Collusion is better\n"
     ]
    }
   ],
   "source": [
    "# Constants\n",
    "T = 10  # Time horizon\n",
    "\n",
    "d_H = 100\n",
    "d_L = 1\n",
    "\n",
    "mu_H = 100\n",
    "mu_L = 1\n",
    "\n",
    "b =1  # Price constnat b\n",
    "\n",
    "d = np.array([[d_H], [d_H], [d_H]]) \n",
    "\n",
    "mu = np.diag([mu_H, mu_H, mu_H])  # Sensitivity constants\n",
    "\n",
    "B = b*np.array([[1],[1],[1]])@np.array([[1,1,1]])\n",
    "\n",
    "C = np.array([[b,b,0],[b,b,0],[0,0,b]])\n",
    "\n",
    "C_Nash = b*np.identity(3)\n",
    "\n",
    "Col_mat = np.linalg.inv(B+C+mu)@mu@d\n",
    "Nash_mat = np.linalg.inv(B+C_Nash+mu)@mu@d\n",
    "\n",
    "\n",
    "Delta_dagger = sum(Col_mat)\n",
    "Delta_ast = sum(Nash_mat)\n",
    "\n",
    "\n",
    "\n",
    "# Non-colluding cost comparison \n",
    "fac_col_nc =  Delta_dagger*Col_mat[2]+0.5*mu[2,2]*(Col_mat[2]-d[2])*(Col_mat[2]-d[2])\n",
    "fac_nash_nc = Delta_ast*Nash_mat[2]+0.5*mu[2,2]*(Nash_mat[2]-d[2])*(Nash_mat[2]-d[2])\n",
    "\n",
    "if fac_col_nc <= fac_nash_nc:\n",
    "    print('Collusion is better')\n",
    "else:\n",
    "    print('Nash is better')\n"
   ]
  },
  {
   "cell_type": "code",
   "execution_count": 110,
   "id": "1c93dc95",
   "metadata": {},
   "outputs": [
    {
     "name": "stdout",
     "output_type": "stream",
     "text": [
      "Nash is better\n"
     ]
    }
   ],
   "source": [
    "# Constants\n",
    "T = 10  # Time horizon\n",
    "\n",
    "d_H = 100\n",
    "d_L = 1\n",
    "\n",
    "mu_H = 100\n",
    "mu_L = 1\n",
    "\n",
    "b =1  # Price constnat b\n",
    "\n",
    "d = np.array([[d_H], [d_H], [d_L]]) \n",
    "\n",
    "mu = np.diag([mu_H, mu_H, mu_L])  # Sensitivity constants\n",
    "\n",
    "B = b*np.array([[1],[1],[1]])@np.array([[1,1,1]])\n",
    "\n",
    "C = np.array([[b,b,0],[b,b,0],[0,0,b]])\n",
    "\n",
    "C_Nash = b*np.identity(3)\n",
    "\n",
    "Col_mat = np.linalg.inv(B+C+mu)@mu@d\n",
    "Nash_mat = np.linalg.inv(B+C_Nash+mu)@mu@d\n",
    "\n",
    "\n",
    "Delta_dagger = sum(Col_mat)\n",
    "Delta_ast = sum(Nash_mat)\n",
    "\n",
    "\n",
    "\n",
    "# Colluding cost comparison \n",
    "fac_col_cc =  Delta_dagger*(Col_mat[0]+Col_mat[1])\n",
    "fac_nash_cc = Delta_ast*(Nash_mat[0]+Nash_mat[1])\n",
    "for i in range(2):\n",
    "    fac_col_cc = fac_col_cc+ 0.5*mu[i,i]*(Col_mat[i]-d[i])*(Col_mat[i]-d[i])\n",
    "    fac_nash_cc = fac_nash_cc+ 0.5*mu[i,i]*(Nash_mat[i]-d[i])*(Nash_mat[i]-d[i])\n",
    "    \n",
    "if fac_col_cc <= fac_nash_cc:\n",
    "    print('Collusion is better')\n",
    "else:\n",
    "    print('Nash is better')\n"
   ]
  },
  {
   "cell_type": "code",
   "execution_count": null,
   "id": "97e6b8ab",
   "metadata": {},
   "outputs": [],
   "source": []
  },
  {
   "cell_type": "code",
   "execution_count": null,
   "id": "d892322a",
   "metadata": {},
   "outputs": [],
   "source": []
  }
 ],
 "metadata": {
  "kernelspec": {
   "display_name": "Python 3 (ipykernel)",
   "language": "python",
   "name": "python3"
  },
  "language_info": {
   "codemirror_mode": {
    "name": "ipython",
    "version": 3
   },
   "file_extension": ".py",
   "mimetype": "text/x-python",
   "name": "python",
   "nbconvert_exporter": "python",
   "pygments_lexer": "ipython3",
   "version": "3.9.13"
  }
 },
 "nbformat": 4,
 "nbformat_minor": 5
}
