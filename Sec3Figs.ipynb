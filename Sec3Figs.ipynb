{
 "cells": [
  {
   "cell_type": "code",
   "execution_count": 150,
   "id": "c6f3f6fc",
   "metadata": {},
   "outputs": [],
   "source": [
    "import numpy as np\n",
    "import itertools\n",
    "\n",
    "# Constants\n",
    "T = 40# Time horizon\n",
    " \n",
    "d_H = 50\n",
    "d_L = 10\n",
    "d = [d_H, d_L]\n",
    "\n",
    "mu_H = 5\n",
    "mu_L = 1\n",
    "mu = [mu_H, mu_L]\n",
    "\n",
    "b =0.5# Price constant b\n",
    "\n",
    "d = np.array([[d_H], [d_H], [d_L]]) \n",
    "\n",
    "#mu = np.diag([mu_H, mu_H, mu_L])  # Sensitivity constants\n",
    "\n",
    "B = b*np.array([[1],[1],[1]])@np.array([[1,1,1]])\n",
    "\n",
    "C = np.array([[b,b,0],[b,b,0],[0,0,b]])\n",
    "\n",
    "## Consider the case that there is only one change in A \n",
    "\n",
    "# A = 10*np.random.rand(T)\n",
    "\n",
    "A = 100*np.concatenate([np.array([0.8 for i in range(int(T/2))]), np.array([0.9 for i in range(int(T - int(T/2)))])])\n",
    "\n",
    "\n",
    "# A = 10*np.concatenate([np.array([0.89 for i in range(int(T/2))]), np.array([0.91 for i in range(int(T - int(T/2)))])])\n",
    "\n",
    "# A = 10*np.array([10,20,20,10])\n",
    "\n",
    "d_values = [d_H, d_L]\n",
    "mu_values = [mu_H, mu_L]\n"
   ]
  },
  {
   "cell_type": "code",
   "execution_count": 151,
   "id": "bf18dd60",
   "metadata": {},
   "outputs": [
    {
     "name": "stdout",
     "output_type": "stream",
     "text": [
      "Corresponding mu's: [5, 5, 5]\n",
      "FinalmetricCol [-371.31659167]\n",
      "FinalMetricNash [-367.34693878]\n",
      "Collusion is better\n",
      "Corresponding mu's: [5, 5, 1]\n",
      "FinalmetricCol [-567.90123457]\n",
      "FinalMetricNash [-560.]\n",
      "Collusion is better\n",
      "Corresponding mu's: [5, 1, 5]\n",
      "FinalmetricCol [-572.20118983]\n",
      "FinalMetricNash [-560.]\n",
      "Collusion is better\n",
      "Corresponding mu's: [5, 1, 1]\n",
      "FinalmetricCol [-657.94170137]\n",
      "FinalMetricNash [-639.71462545]\n",
      "Collusion is better\n",
      "Corresponding mu's: [1, 5, 5]\n",
      "FinalmetricCol [-572.20118983]\n",
      "FinalMetricNash [-560.]\n",
      "Collusion is better\n",
      "Corresponding mu's: [1, 5, 1]\n",
      "FinalmetricCol [-657.94170137]\n",
      "FinalMetricNash [-639.71462545]\n",
      "Collusion is better\n",
      "Corresponding mu's: [1, 1, 5]\n",
      "FinalmetricCol [-671.02040816]\n",
      "FinalMetricNash [-639.71462545]\n",
      "Collusion is better\n",
      "Corresponding mu's: [1, 1, 1]\n",
      "FinalmetricCol [-710.74380165]\n",
      "FinalMetricNash [-666.66666667]\n",
      "Collusion is better\n"
     ]
    }
   ],
   "source": [
    "\n",
    "combinations = [combo for combo in itertools.product(range(len(d_values)), repeat=3)]\n",
    "\n",
    "for idx_combination in combinations:\n",
    "    d = [d_values[i] for i in idx_combination]\n",
    "    mu = [mu_values[i] for i in idx_combination]\n",
    "    mu_list = mu\n",
    "    mu = np.diag(mu)\n",
    "#     print(\"Combination of d's:\", d)\n",
    "    print(\"Corresponding mu's:\",mu_list )\n",
    "    C_Nash = b*np.identity(3)\n",
    "    \n",
    "    G_t_sum = 0 \n",
    "    a_tG_t_sum = 0\n",
    "    \n",
    "    \n",
    "    for t in range(T):\n",
    "        G_t_sum = G_t_sum + (T*A[t]-sum(A))*(T*A[t]-sum(A))\n",
    "        a_tG_t_sum = a_tG_t_sum  + A[t]*(T*A[t]-sum(A))\n",
    "        \n",
    "    G_t_sum_sq = G_t_sum\n",
    "    \n",
    "    Col_mat = np.linalg.inv(B+C+mu)@np.array([[1],[1],[1]])\n",
    "    Nash_mat = np.linalg.inv(B+C_Nash+mu)@np.array([[1],[1],[1]])\n",
    "\n",
    "    Gamma_dagger = sum(Col_mat)\n",
    "    Gamma_ast = sum(Nash_mat)\n",
    "\n",
    "    # Welfare comparison \n",
    "    fac_col =  Gamma_dagger*Gamma_dagger \n",
    "    fac_nash = Gamma_ast*Gamma_ast\n",
    "    for i in range(3):\n",
    "        fac_col = fac_col+ 0.5*mu[i,i]*Col_mat[i]*Col_mat[i]/b\n",
    "        fac_nash = fac_nash+ 0.5*mu[i,i]*Nash_mat[i]*Nash_mat[i]/b\n",
    "        \n",
    "    T1_col = fac_col*G_t_sum_sq/(T*T)\n",
    "    T2_col = Gamma_dagger*a_tG_t_sum/(T*b)\n",
    "    \n",
    "    T1_nash = fac_nash*G_t_sum_sq/(T*T)\n",
    "    T2_nash = Gamma_ast*a_tG_t_sum/(T*b)\n",
    "\n",
    "    Final_metric_Col = T1_col -T2_col\n",
    "    Final_metric_Nash = T1_nash - T2_nash\n",
    "    \n",
    "#     print('Term 1 col', T1_col)\n",
    "#     print('Term 1 nash', T1_nash)\n",
    "    \n",
    "#     print('Term 2 col', T2_col)\n",
    "#     print('Term 2 nash', T2_nash)\n",
    "    \n",
    "    \n",
    "    print('FinalmetricCol', Final_metric_Col)\n",
    "    print('FinalMetricNash', Final_metric_Nash)\n",
    "\n",
    "    \n",
    "    \n",
    "    \n",
    "    \n",
    "#     print('faccol', fac_col)\n",
    "#     print('facNash', fac_nash)\n",
    "    \n",
    "#     print('Gamma_dagger', Gamma_dagger)\n",
    "#     print('Gamma_ast', Gamma_ast)\n",
    "\n",
    "    if Final_metric_Col < Final_metric_Nash:\n",
    "        print('Collusion is better')\n",
    "    else:\n",
    "        print('Nash is better')\n",
    "\n",
    "    \n",
    "\n"
   ]
  },
  {
   "cell_type": "code",
   "execution_count": null,
   "id": "d7b6359d",
   "metadata": {},
   "outputs": [],
   "source": []
  },
  {
   "cell_type": "code",
   "execution_count": 152,
   "id": "751923ff",
   "metadata": {},
   "outputs": [
    {
     "data": {
      "text/plain": [
       "-0.11857614000000001"
      ]
     },
     "execution_count": 152,
     "metadata": {},
     "output_type": "execute_result"
    }
   ],
   "source": [
    "0.11920478-0.23778092"
   ]
  },
  {
   "cell_type": "code",
   "execution_count": 139,
   "id": "9b9c6ea3",
   "metadata": {},
   "outputs": [
    {
     "data": {
      "text/plain": [
       "-0.11857521000000001"
      ]
     },
     "execution_count": 139,
     "metadata": {},
     "output_type": "execute_result"
    }
   ],
   "source": [
    "0.11952003-0.23809524"
   ]
  },
  {
   "cell_type": "code",
   "execution_count": 140,
   "id": "e4a8dcd2",
   "metadata": {},
   "outputs": [
    {
     "ename": "SyntaxError",
     "evalue": "invalid syntax (370128090.py, line 1)",
     "output_type": "error",
     "traceback": [
      "\u001b[0;36m  File \u001b[0;32m\"/var/folders/ck/x2wg4sf53j53qt7wxmjl4p4w0000gn/T/ipykernel_94796/370128090.py\"\u001b[0;36m, line \u001b[0;32m1\u001b[0m\n\u001b[0;31m    Corresponding mu's: [50, 50, 50]\u001b[0m\n\u001b[0m                  ^\u001b[0m\n\u001b[0;31mSyntaxError\u001b[0m\u001b[0;31m:\u001b[0m invalid syntax\n"
     ]
    }
   ],
   "source": [
    "Corresponding mu's: [50, 50, 50]\n",
    "Term 1 col [0.11920478]\n",
    "Term 1 nash [0.11952003]\n",
    "Term 2 col [0.23778092]\n",
    "Term 2 nash [0.23809524]"
   ]
  },
  {
   "cell_type": "code",
   "execution_count": 141,
   "id": "86248a58",
   "metadata": {},
   "outputs": [
    {
     "data": {
      "text/plain": [
       "0.15384616000000004"
      ]
     },
     "execution_count": 141,
     "metadata": {},
     "output_type": "execute_result"
    }
   ],
   "source": [
    "0.61538462-0.38461538-0.07692308"
   ]
  },
  {
   "cell_type": "code",
   "execution_count": 142,
   "id": "b5c77fec",
   "metadata": {},
   "outputs": [
    {
     "data": {
      "text/plain": [
       "568108.1669375268"
      ]
     },
     "execution_count": 142,
     "metadata": {},
     "output_type": "execute_result"
    }
   ],
   "source": [
    "G_t_sum_sq"
   ]
  },
  {
   "cell_type": "code",
   "execution_count": 143,
   "id": "f33e9894",
   "metadata": {},
   "outputs": [
    {
     "data": {
      "text/plain": [
       "array([[0.27272727],\n",
       "       [0.27272727],\n",
       "       [0.36363636]])"
      ]
     },
     "execution_count": 143,
     "metadata": {},
     "output_type": "execute_result"
    }
   ],
   "source": [
    "Col_mat"
   ]
  },
  {
   "cell_type": "code",
   "execution_count": 144,
   "id": "b7aaefa3",
   "metadata": {},
   "outputs": [
    {
     "data": {
      "text/plain": [
       "array([[0.33333333],\n",
       "       [0.33333333],\n",
       "       [0.33333333]])"
      ]
     },
     "execution_count": 144,
     "metadata": {},
     "output_type": "execute_result"
    }
   ],
   "source": [
    "Nash_mat"
   ]
  },
  {
   "cell_type": "code",
   "execution_count": 153,
   "id": "0ae08182",
   "metadata": {},
   "outputs": [
    {
     "name": "stdout",
     "output_type": "stream",
     "text": [
      "Corresponding mu's: [5, 5, 5]\n",
      "FinalmetricCol [-245.89925969]\n",
      "FinalMetricNash [-203.58986968]\n",
      "Collusion is better\n",
      "Corresponding mu's: [5, 5, 1]\n",
      "FinalmetricCol [-172.83950617]\n",
      "FinalMetricNash [-137.24444444]\n",
      "Collusion is better\n",
      "Corresponding mu's: [5, 1, 5]\n",
      "FinalmetricCol [-479.89904453]\n",
      "FinalMetricNash [-376.85581395]\n",
      "Collusion is better\n",
      "Corresponding mu's: [5, 1, 1]\n",
      "FinalmetricCol [-353.36109459]\n",
      "FinalMetricNash [-264.49348917]\n",
      "Collusion is better\n",
      "Corresponding mu's: [1, 5, 5]\n",
      "FinalmetricCol [-479.89904453]\n",
      "FinalMetricNash [-376.85581395]\n",
      "Collusion is better\n",
      "Corresponding mu's: [1, 5, 1]\n",
      "FinalmetricCol [-353.36109459]\n",
      "FinalMetricNash [-264.49348917]\n",
      "Collusion is better\n",
      "Corresponding mu's: [1, 1, 5]\n",
      "FinalmetricCol [-592.65306122]\n",
      "FinalMetricNash [-315.40682861]\n",
      "Collusion is better\n",
      "Corresponding mu's: [1, 1, 1]\n",
      "FinalmetricCol [-446.28099174]\n",
      "FinalMetricNash [-202.02020202]\n",
      "Collusion is better\n"
     ]
    }
   ],
   "source": [
    "combinations = [combo for combo in itertools.product(range(len(d_values)), repeat=3)]\n",
    "\n",
    "for idx_combination in combinations:\n",
    "    d = [d_values[i] for i in idx_combination]\n",
    "    mu = [mu_values[i] for i in idx_combination]\n",
    "    mu_list = mu\n",
    "    mu = np.diag(mu)\n",
    "#     print(\"Combination of d's:\", d)\n",
    "    print(\"Corresponding mu's:\",mu_list )\n",
    "    C_Nash = b*np.identity(3)\n",
    "    \n",
    "    G_t_sum = 0 \n",
    "    a_tG_t_sum = 0\n",
    "    \n",
    "    \n",
    "    for t in range(T):\n",
    "        G_t_sum = G_t_sum + (T*A[t]-sum(A))*(T*A[t]-sum(A))\n",
    "        a_tG_t_sum = a_tG_t_sum  + A[t]*(T*A[t]-sum(A))\n",
    "        \n",
    "    G_t_sum_sq = G_t_sum\n",
    "    \n",
    "    Col_mat = np.linalg.inv(B+C+mu)@np.array([[1],[1],[1]])\n",
    "    Nash_mat = np.linalg.inv(B+C_Nash+mu)@np.array([[1],[1],[1]])\n",
    "\n",
    "    Gamma_dagger = sum(Col_mat)\n",
    "    Gamma_ast = sum(Nash_mat)\n",
    "\n",
    "    # Collusion Comparison \n",
    "    fac_col =  0\n",
    "    fac_nash = 0\n",
    "    for i in range(2):\n",
    "        fac_col = fac_col+ Gamma_dagger*Col_mat[i] + 0.5*mu[i,i]*Col_mat[i]*Col_mat[i]/b\n",
    "        fac_nash = fac_nash+ Gamma_ast*Nash_mat[i]  + 0.5*mu[i,i]*Nash_mat[i]*Nash_mat[i]/b\n",
    "        \n",
    "    T1_col = fac_col*G_t_sum_sq/(T*T)\n",
    "    T2_col = (Col_mat[0]+Col_mat[1])*a_tG_t_sum/(T*b)\n",
    "    \n",
    "    T1_nash = fac_nash*G_t_sum_sq/(T*T)\n",
    "    T2_nash = (Col_mat[0]+Col_mat[1])*a_tG_t_sum/(T*b)\n",
    "\n",
    "    Final_metric_Col = T1_col -T2_col\n",
    "    Final_metric_Nash = T1_nash - T2_nash\n",
    "    \n",
    "#     print('Term 1 col', T1_col)\n",
    "#     print('Term 1 nash', T1_nash)\n",
    "    \n",
    "#     print('Term 2 col', T2_col)\n",
    "#     print('Term 2 nash', T2_nash)\n",
    "    \n",
    "    \n",
    "    print('FinalmetricCol', Final_metric_Col)\n",
    "    print('FinalMetricNash', Final_metric_Nash)\n",
    "\n",
    "    \n",
    "    \n",
    "    \n",
    "    \n",
    "#     print('faccol', fac_col)\n",
    "#     print('facNash', fac_nash)\n",
    "    \n",
    "#     print('Gamma_dagger', Gamma_dagger)\n",
    "#     print('Gamma_ast', Gamma_ast)\n",
    "\n",
    "    if Final_metric_Col < Final_metric_Nash:\n",
    "        print('Collusion is better')\n",
    "    else:\n",
    "        print('Nash is better')\n",
    "\n",
    "    \n",
    "\n"
   ]
  },
  {
   "cell_type": "code",
   "execution_count": 154,
   "id": "42f8112d",
   "metadata": {},
   "outputs": [],
   "source": [
    "### Non colluding"
   ]
  },
  {
   "cell_type": "code",
   "execution_count": 155,
   "id": "ce6dbdf8",
   "metadata": {},
   "outputs": [
    {
     "name": "stdout",
     "output_type": "stream",
     "text": [
      "Corresponding mu's: [5, 5, 5]\n",
      "FinalmetricCol [-125.41733198]\n",
      "FinalMetricNash [-125.89132038]\n",
      "Nash is better\n",
      "Corresponding mu's: [5, 5, 1]\n",
      "FinalmetricCol [-395.0617284]\n",
      "FinalMetricNash [-396.08888889]\n",
      "Nash is better\n",
      "Corresponding mu's: [5, 1, 5]\n",
      "FinalmetricCol [-92.3021453]\n",
      "FinalMetricNash [-94.4620155]\n",
      "Nash is better\n",
      "Corresponding mu's: [5, 1, 1]\n",
      "FinalmetricCol [-304.58060678]\n",
      "FinalMetricNash [-309.61979061]\n",
      "Nash is better\n",
      "Corresponding mu's: [1, 5, 5]\n",
      "FinalmetricCol [-92.3021453]\n",
      "FinalMetricNash [-94.4620155]\n",
      "Nash is better\n",
      "Corresponding mu's: [1, 5, 1]\n",
      "FinalmetricCol [-304.58060678]\n",
      "FinalMetricNash [-309.61979061]\n",
      "Nash is better\n",
      "Corresponding mu's: [1, 1, 5]\n",
      "FinalmetricCol [-78.36734694]\n",
      "FinalMetricNash [-85.88415152]\n",
      "Nash is better\n",
      "Corresponding mu's: [1, 1, 1]\n",
      "FinalmetricCol [-264.46280992]\n",
      "FinalMetricNash [-282.82828283]\n",
      "Nash is better\n"
     ]
    }
   ],
   "source": [
    "\n",
    "combinations = [combo for combo in itertools.product(range(len(d_values)), repeat=3)]\n",
    "\n",
    "for idx_combination in combinations:\n",
    "    d = [d_values[i] for i in idx_combination]\n",
    "    mu = [mu_values[i] for i in idx_combination]\n",
    "    mu_list = mu\n",
    "    mu = np.diag(mu)\n",
    "#     print(\"Combination of d's:\", d)\n",
    "    print(\"Corresponding mu's:\",mu_list )\n",
    "    C_Nash = b*np.identity(3)\n",
    "    \n",
    "    G_t_sum = 0 \n",
    "    a_tG_t_sum = 0\n",
    "    \n",
    "    \n",
    "    for t in range(T):\n",
    "        G_t_sum = G_t_sum + (T*A[t]-sum(A))*(T*A[t]-sum(A))\n",
    "        a_tG_t_sum = a_tG_t_sum  + A[t]*(T*A[t]-sum(A))\n",
    "        \n",
    "    G_t_sum_sq = G_t_sum\n",
    "    \n",
    "    Col_mat = np.linalg.inv(B+C+mu)@np.array([[1],[1],[1]])\n",
    "    Nash_mat = np.linalg.inv(B+C_Nash+mu)@np.array([[1],[1],[1]])\n",
    "\n",
    "    Gamma_dagger = sum(Col_mat)\n",
    "    Gamma_ast = sum(Nash_mat)\n",
    "\n",
    "    # Non Colluding Collusion Comparison \n",
    "    fac_col =  0\n",
    "    fac_nash = 0\n",
    "    for i in range(2,3):\n",
    "        fac_col = fac_col+ Gamma_dagger*Col_mat[i] + 0.5*mu[i,i]*Col_mat[i]*Col_mat[i]/b\n",
    "        fac_nash = fac_nash+ Gamma_ast*Nash_mat[i]  + 0.5*mu[i,i]*Nash_mat[i]*Nash_mat[i]/b\n",
    "        \n",
    "    T1_col = fac_col*G_t_sum_sq/(T*T)\n",
    "    T2_col = (Col_mat[2])*a_tG_t_sum/(T*b)\n",
    "    \n",
    "    T1_nash = fac_nash*G_t_sum_sq/(T*T)\n",
    "    T2_nash = (Col_mat[2])*a_tG_t_sum/(T*b)\n",
    "\n",
    "    Final_metric_Col = T1_col -T2_col\n",
    "    Final_metric_Nash = T1_nash - T2_nash\n",
    "    \n",
    "#     print('Term 1 col', T1_col)\n",
    "#     print('Term 1 nash', T1_nash)\n",
    "    \n",
    "#     print('Term 2 col', T2_col)\n",
    "#     print('Term 2 nash', T2_nash)\n",
    "    \n",
    "    \n",
    "    print('FinalmetricCol', Final_metric_Col)\n",
    "    print('FinalMetricNash', Final_metric_Nash)\n",
    "\n",
    "    \n",
    "    \n",
    "    \n",
    "    \n",
    "#     print('faccol', fac_col)\n",
    "#     print('facNash', fac_nash)\n",
    "    \n",
    "#     print('Gamma_dagger', Gamma_dagger)\n",
    "#     print('Gamma_ast', Gamma_ast)\n",
    "\n",
    "    if Final_metric_Col < Final_metric_Nash:\n",
    "        print('Collusion is better')\n",
    "    else:\n",
    "        print('Nash is better')\n",
    "\n",
    "    \n",
    "\n"
   ]
  },
  {
   "cell_type": "code",
   "execution_count": null,
   "id": "fb163844",
   "metadata": {},
   "outputs": [],
   "source": []
  },
  {
   "cell_type": "code",
   "execution_count": null,
   "id": "11862cfb",
   "metadata": {},
   "outputs": [],
   "source": []
  },
  {
   "cell_type": "code",
   "execution_count": null,
   "id": "bd732321",
   "metadata": {},
   "outputs": [],
   "source": []
  }
 ],
 "metadata": {
  "kernelspec": {
   "display_name": "Python 3 (ipykernel)",
   "language": "python",
   "name": "python3"
  },
  "language_info": {
   "codemirror_mode": {
    "name": "ipython",
    "version": 3
   },
   "file_extension": ".py",
   "mimetype": "text/x-python",
   "name": "python",
   "nbconvert_exporter": "python",
   "pygments_lexer": "ipython3",
   "version": "3.9.13"
  }
 },
 "nbformat": 4,
 "nbformat_minor": 5
}
